{
 "cells": [
  {
   "cell_type": "code",
   "execution_count": 13,
   "id": "ae5ccd3d-e40e-4381-b904-e1f10bdffaca",
   "metadata": {},
   "outputs": [],
   "source": [
    "\n",
    "input_file = \"../eer_files/conformer-based-classifier-for-anti-spoofing/keys/llamapartialspoof_r01tts0b_processed_bak.txt\"\n",
    "output_file = \"../eer_files/conformer-based-classifier-for-anti-spoofing/keys/llamapartialspoof_r01tts0b_processed.txt\""
   ]
  },
  {
   "cell_type": "code",
   "execution_count": 14,
   "id": "67413c2c-b023-40b5-befb-d7179aae9554",
   "metadata": {},
   "outputs": [],
   "source": [
    "with open(input_file, 'r') as rf:\n",
    "    lines = rf.readlines()\n",
    "\n",
    "with open(output_file, 'w') as wf:\n",
    "    for line in lines:\n",
    "        split = line.strip().split(' ')\n",
    "\n",
    "        # modify column values here. E.g. modify synthesizer\n",
    "        if \"dev-clean\" not in split[1] and \"test-clean\" not in split[1]:\n",
    "            synthesizer = split[1].split('-')[1]\n",
    "            split[4] = synthesizer\n",
    "        \n",
    "        wf.write(' '.join(split) + '\\n')"
   ]
  },
  {
   "cell_type": "code",
   "execution_count": null,
   "id": "9606549e-8049-4768-a9ad-eecbcb0a0bc8",
   "metadata": {},
   "outputs": [],
   "source": []
  }
 ],
 "metadata": {
  "kernelspec": {
   "display_name": "Python 3 (ipykernel)",
   "language": "python",
   "name": "python3"
  },
  "language_info": {
   "codemirror_mode": {
    "name": "ipython",
    "version": 3
   },
   "file_extension": ".py",
   "mimetype": "text/x-python",
   "name": "python",
   "nbconvert_exporter": "python",
   "pygments_lexer": "ipython3",
   "version": "3.12.4"
  }
 },
 "nbformat": 4,
 "nbformat_minor": 5
}
